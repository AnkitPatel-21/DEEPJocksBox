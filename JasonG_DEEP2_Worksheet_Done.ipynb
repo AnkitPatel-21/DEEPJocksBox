{
  "nbformat": 4,
  "nbformat_minor": 0,
  "metadata": {
    "kernelspec": {
      "display_name": "Python 3",
      "language": "python",
      "name": "python3"
    },
    "language_info": {
      "codemirror_mode": {
        "name": "ipython",
        "version": 3
      },
      "file_extension": ".py",
      "mimetype": "text/x-python",
      "name": "python",
      "nbconvert_exporter": "python",
      "pygments_lexer": "ipython3",
      "version": "3.7.0"
    },
    "toc": {
      "base_numbering": 1,
      "nav_menu": {},
      "number_sections": true,
      "sideBar": true,
      "skip_h1_title": false,
      "title_cell": "Table of Contents",
      "title_sidebar": "Contents",
      "toc_cell": false,
      "toc_position": {},
      "toc_section_display": true,
      "toc_window_display": false
    },
    "colab": {
      "name": "DEEP2-Worksheet.ipynb",
      "provenance": []
    }
  },
  "cells": [
    {
      "cell_type": "markdown",
      "metadata": {
        "id": "_KQAzoqR6QRm"
      },
      "source": [
        "# Gathering and Cleaning Data \n",
        "\n",
        "## DEEP Workshop #2\n",
        "The goal of this notebook is to give you the knowledge of how to access and begin to understand a new data set.\n",
        "\n",
        "### Table of contents: \n",
        "1. Review: Pandas Data Structures\n",
        "2. Reading in Data\n",
        "3. Getting an Initial Sense for the Data\n",
        "4. Selecting Data Subsets\n",
        "5. Computations and New Columns\n",
        "6. Grouping and Aggregating the Data\n",
        "\n",
        "### Data Overview \n",
        "We are using a dataset on different cereals. Most of the columns are self explanatory but there are two columns that are coded: \n",
        "- mfr: Manufacturer of cereal\n",
        "    - A = American Home Food Products;\n",
        "    - G = General Mills\n",
        "    - K = Kelloggs\n",
        "    - N = Nabisco\n",
        "    - P = Post\n",
        "    - Q = Quaker Oats\n",
        "    - R = Ralston Purina\n",
        "- type:\n",
        "    - cold\n",
        "    - hot\n",
        "   \n",
        "You can find more about the dataset here: https://www.kaggle.com/crawford/80-cereals"
      ]
    },
    {
      "cell_type": "markdown",
      "metadata": {
        "id": "S9nOCNWI6QRp"
      },
      "source": [
        "# Review: Pandas Data Structures \n",
        "\n",
        "In pandas, there are two key data structures - a series and a dataframe.\n",
        "A series a one-dimensional labeled array (or list) capable of holding any data type.\n",
        "A dataframe represents tabular data and is composed of columns, where each column is a series.\n",
        "\n",
        "You can read more about the basic data structures in Panda's documentation: https://pandas.pydata.org/docs/user_guide/dsintro.html"
      ]
    },
    {
      "cell_type": "markdown",
      "metadata": {
        "id": "wpCeJHbC6QRq"
      },
      "source": [
        "# Reading in Data\n",
        "\n",
        "Before we can learn about pandas we need to read in the library. \\\n",
        "In python libraries are read in like this:\n",
        "```\n",
        "import library_name as some_abbreviation\n",
        "```\n",
        "\n",
        "First we want to access the data we will be using pandas.\n",
        "\n",
        "To read-in and create a new data frame from a csv in pandas we use:\n",
        "\n",
        "```\n",
        "df = pd.read_csv('path or url to csv')\n",
        "```"
      ]
    },
    {
      "cell_type": "code",
      "metadata": {
        "id": "vfBtdnym6QRs"
      },
      "source": [
        "import pandas as pd"
      ],
      "execution_count": null,
      "outputs": []
    },
    {
      "cell_type": "code",
      "metadata": {
        "id": "9ux-SWpA6QRx",
        "outputId": "89bc0e0e-3020-4d2d-b6c1-8ef9206129ed",
        "colab": {
          "base_uri": "https://localhost:8080/",
          "height": 34
        }
      },
      "source": [
        "cereal_df = pd.read_csv('cereal.csv')\n",
        "cereal_df.shape"
      ],
      "execution_count": 13,
      "outputs": [
        {
          "output_type": "execute_result",
          "data": {
            "text/plain": [
              "(77, 16)"
            ]
          },
          "metadata": {
            "tags": []
          },
          "execution_count": 13
        }
      ]
    },
    {
      "cell_type": "markdown",
      "metadata": {
        "id": "ejQpDJwp6QR5"
      },
      "source": [
        "# Getting an Initial Sense for the Data  \n",
        "The pandas DataFrame object that we just created has a lot of useful methods and attributes or getting a sense of what is included in our data.\n",
        "\n",
        "A usefull attribute for determining the number of rows and columns of your data is:\n",
        "```\n",
        "df.shape #shape is an attriute not a method so we don't use parenthesis\n",
        "```\n",
        "To get a quick look at the first couple rows of your data use:\n",
        "```\n",
        "df.head() \n",
        "```\n",
        "To get number of unique values in the dataframe \n",
        "```\n",
        "df.nunique()\n",
        "```"
      ]
    },
    {
      "cell_type": "markdown",
      "metadata": {
        "id": "yG-vI9Fu6QR6"
      },
      "source": [
        "### Q: What are the dimensions/shape of the cereal dataset?"
      ]
    },
    {
      "cell_type": "code",
      "metadata": {
        "id": "MMZ8unYJ6QR7",
        "outputId": "c26ab580-c07c-4de2-920e-ab9a3af50e09",
        "colab": {
          "base_uri": "https://localhost:8080/",
          "height": 34
        }
      },
      "source": [
        "df.shape"
      ],
      "execution_count": null,
      "outputs": [
        {
          "output_type": "execute_result",
          "data": {
            "text/plain": [
              "(44284, 119)"
            ]
          },
          "metadata": {
            "tags": []
          },
          "execution_count": 5
        }
      ]
    },
    {
      "cell_type": "markdown",
      "metadata": {
        "id": "Msgj_MDJ6QSU"
      },
      "source": [
        "### Q: Look at the head of the dataset. What does each row represent?"
      ]
    },
    {
      "cell_type": "code",
      "metadata": {
        "id": "_HcWCyG56QSW",
        "outputId": "73d991bf-2f92-4353-dae7-b66800f0afb1",
        "colab": {
          "base_uri": "https://localhost:8080/",
          "height": 195
        }
      },
      "source": [
        "cereal_df.head()"
      ],
      "execution_count": 14,
      "outputs": [
        {
          "output_type": "execute_result",
          "data": {
            "text/html": [
              "<div>\n",
              "<style scoped>\n",
              "    .dataframe tbody tr th:only-of-type {\n",
              "        vertical-align: middle;\n",
              "    }\n",
              "\n",
              "    .dataframe tbody tr th {\n",
              "        vertical-align: top;\n",
              "    }\n",
              "\n",
              "    .dataframe thead th {\n",
              "        text-align: right;\n",
              "    }\n",
              "</style>\n",
              "<table border=\"1\" class=\"dataframe\">\n",
              "  <thead>\n",
              "    <tr style=\"text-align: right;\">\n",
              "      <th></th>\n",
              "      <th>name</th>\n",
              "      <th>mfr</th>\n",
              "      <th>type</th>\n",
              "      <th>calories</th>\n",
              "      <th>protein</th>\n",
              "      <th>fat</th>\n",
              "      <th>sodium</th>\n",
              "      <th>fiber</th>\n",
              "      <th>carbo</th>\n",
              "      <th>sugars</th>\n",
              "      <th>potass</th>\n",
              "      <th>vitamins</th>\n",
              "      <th>shelf</th>\n",
              "      <th>weight</th>\n",
              "      <th>cups</th>\n",
              "      <th>rating</th>\n",
              "    </tr>\n",
              "  </thead>\n",
              "  <tbody>\n",
              "    <tr>\n",
              "      <th>0</th>\n",
              "      <td>100% Bran</td>\n",
              "      <td>N</td>\n",
              "      <td>C</td>\n",
              "      <td>70</td>\n",
              "      <td>4</td>\n",
              "      <td>1</td>\n",
              "      <td>130</td>\n",
              "      <td>10.0</td>\n",
              "      <td>5.0</td>\n",
              "      <td>6</td>\n",
              "      <td>280</td>\n",
              "      <td>25</td>\n",
              "      <td>3</td>\n",
              "      <td>1.0</td>\n",
              "      <td>0.33</td>\n",
              "      <td>68.402973</td>\n",
              "    </tr>\n",
              "    <tr>\n",
              "      <th>1</th>\n",
              "      <td>100% Natural Bran</td>\n",
              "      <td>Q</td>\n",
              "      <td>C</td>\n",
              "      <td>120</td>\n",
              "      <td>3</td>\n",
              "      <td>5</td>\n",
              "      <td>15</td>\n",
              "      <td>2.0</td>\n",
              "      <td>8.0</td>\n",
              "      <td>8</td>\n",
              "      <td>135</td>\n",
              "      <td>0</td>\n",
              "      <td>3</td>\n",
              "      <td>1.0</td>\n",
              "      <td>1.00</td>\n",
              "      <td>33.983679</td>\n",
              "    </tr>\n",
              "    <tr>\n",
              "      <th>2</th>\n",
              "      <td>All-Bran</td>\n",
              "      <td>K</td>\n",
              "      <td>C</td>\n",
              "      <td>70</td>\n",
              "      <td>4</td>\n",
              "      <td>1</td>\n",
              "      <td>260</td>\n",
              "      <td>9.0</td>\n",
              "      <td>7.0</td>\n",
              "      <td>5</td>\n",
              "      <td>320</td>\n",
              "      <td>25</td>\n",
              "      <td>3</td>\n",
              "      <td>1.0</td>\n",
              "      <td>0.33</td>\n",
              "      <td>59.425505</td>\n",
              "    </tr>\n",
              "    <tr>\n",
              "      <th>3</th>\n",
              "      <td>All-Bran with Extra Fiber</td>\n",
              "      <td>K</td>\n",
              "      <td>C</td>\n",
              "      <td>50</td>\n",
              "      <td>4</td>\n",
              "      <td>0</td>\n",
              "      <td>140</td>\n",
              "      <td>14.0</td>\n",
              "      <td>8.0</td>\n",
              "      <td>0</td>\n",
              "      <td>330</td>\n",
              "      <td>25</td>\n",
              "      <td>3</td>\n",
              "      <td>1.0</td>\n",
              "      <td>0.50</td>\n",
              "      <td>93.704912</td>\n",
              "    </tr>\n",
              "    <tr>\n",
              "      <th>4</th>\n",
              "      <td>Almond Delight</td>\n",
              "      <td>R</td>\n",
              "      <td>C</td>\n",
              "      <td>110</td>\n",
              "      <td>2</td>\n",
              "      <td>2</td>\n",
              "      <td>200</td>\n",
              "      <td>1.0</td>\n",
              "      <td>14.0</td>\n",
              "      <td>8</td>\n",
              "      <td>-1</td>\n",
              "      <td>25</td>\n",
              "      <td>3</td>\n",
              "      <td>1.0</td>\n",
              "      <td>0.75</td>\n",
              "      <td>34.384843</td>\n",
              "    </tr>\n",
              "  </tbody>\n",
              "</table>\n",
              "</div>"
            ],
            "text/plain": [
              "                        name mfr type  calories  ...  shelf  weight  cups     rating\n",
              "0                  100% Bran   N    C        70  ...      3     1.0  0.33  68.402973\n",
              "1          100% Natural Bran   Q    C       120  ...      3     1.0  1.00  33.983679\n",
              "2                   All-Bran   K    C        70  ...      3     1.0  0.33  59.425505\n",
              "3  All-Bran with Extra Fiber   K    C        50  ...      3     1.0  0.50  93.704912\n",
              "4             Almond Delight   R    C       110  ...      3     1.0  0.75  34.384843\n",
              "\n",
              "[5 rows x 16 columns]"
            ]
          },
          "metadata": {
            "tags": []
          },
          "execution_count": 14
        }
      ]
    },
    {
      "cell_type": "markdown",
      "metadata": {
        "id": "8BZSnR8w6QSk"
      },
      "source": [
        "### Q: What are the columns in the dataset? What datatype is each column?"
      ]
    },
    {
      "cell_type": "code",
      "metadata": {
        "id": "BIb_qa7w6QSl",
        "outputId": "3f704090-e4af-473a-ff78-3357971b5e51",
        "colab": {
          "base_uri": "https://localhost:8080/",
          "height": 218
        }
      },
      "source": [
        "print(df.dtypes)"
      ],
      "execution_count": 9,
      "outputs": [
        {
          "output_type": "stream",
          "text": [
            "gmDate         object\n",
            "gmTime         object\n",
            "seasTyp        object\n",
            "offLNm         object\n",
            "offFNm         object\n",
            "               ...   \n",
            "opptAR        float64\n",
            "opptAST/TO    float64\n",
            "opptSTL/TO    float64\n",
            "poss          float64\n",
            "pace          float64\n",
            "Length: 119, dtype: object\n"
          ],
          "name": "stdout"
        }
      ]
    },
    {
      "cell_type": "markdown",
      "metadata": {
        "id": "AAS0LDkm6QSp"
      },
      "source": [
        "### Q: How many unique ratings are there?"
      ]
    },
    {
      "cell_type": "code",
      "metadata": {
        "id": "T_WQ21AB6QSq",
        "outputId": "369c57ef-c6bb-4ef3-8b96-c57a91ed24d5",
        "colab": {
          "base_uri": "https://localhost:8080/",
          "height": 34
        }
      },
      "source": [
        "df.loc[:,'teamPTS'].nunique()"
      ],
      "execution_count": 12,
      "outputs": [
        {
          "output_type": "execute_result",
          "data": {
            "text/plain": [
              "90"
            ]
          },
          "metadata": {
            "tags": []
          },
          "execution_count": 12
        }
      ]
    },
    {
      "cell_type": "markdown",
      "metadata": {
        "id": "qcqIsQI-6QS9"
      },
      "source": [
        "# Selecting Subsets \n",
        "A useful methods for selecting rows and columns:\\\n",
        "`subset_df = df.loc[desired rows, desired columns]`\n",
        "\n",
        "For example if we wanted all rows but only the name and rating columns we would use:\\\n",
        "`cerealName_rating_df = cereal_df.loc[:, ['name', 'rating']]`\n",
        "\n",
        "Or if we wanted only the first 50 rows but all columnns we would use:\\\n",
        "`first_50_df = cereal_df.loc[range(50), : ]`\n",
        "\n",
        "We can also use boolean logic to select specific rows:\\\n",
        "`kellogs_df = cereal_df.loc[cereal_df.mfr == \"K\", :]`"
      ]
    },
    {
      "cell_type": "markdown",
      "metadata": {
        "id": "Pa1-IIPh6QS-"
      },
      "source": [
        "### Q: What are the names of all the cereals made by General Mills? How many cereals are made by General Mills?\n",
        "\n",
        "Hint: the code for General Mills is G"
      ]
    },
    {
      "cell_type": "code",
      "metadata": {
        "id": "ru6ddMe-6QS_",
        "outputId": "c2716caa-1355-4966-f670-f35072bd3391",
        "colab": {
          "base_uri": "https://localhost:8080/",
          "height": 34
        }
      },
      "source": [
        "gm_df = cereal_df.loc[cereal_df.mfr == \"G\", :]\n",
        "gm_df.head()\n",
        "gm_df.name.nunique()"
      ],
      "execution_count": 18,
      "outputs": [
        {
          "output_type": "execute_result",
          "data": {
            "text/plain": [
              "22"
            ]
          },
          "metadata": {
            "tags": []
          },
          "execution_count": 18
        }
      ]
    },
    {
      "cell_type": "markdown",
      "metadata": {
        "id": "Uz9E4IX-6QTT"
      },
      "source": [
        "### Q: What is the highest rating value in the dataset? What is the lowest rating value in the dataset?\n"
      ]
    },
    {
      "cell_type": "code",
      "metadata": {
        "id": "h1j_zrxz6QTU",
        "outputId": "8d1a9e3b-b2d4-4c9d-937f-afe2dbfd14ec",
        "colab": {
          "base_uri": "https://localhost:8080/",
          "height": 34
        }
      },
      "source": [
        "cereal_df.loc[:, \"rating\"].max()"
      ],
      "execution_count": 21,
      "outputs": [
        {
          "output_type": "execute_result",
          "data": {
            "text/plain": [
              "93.704912"
            ]
          },
          "metadata": {
            "tags": []
          },
          "execution_count": 21
        }
      ]
    },
    {
      "cell_type": "markdown",
      "metadata": {
        "id": "9fYT82YL6QTZ"
      },
      "source": [
        "### Q: How many cereals have sugar content over 5?"
      ]
    },
    {
      "cell_type": "code",
      "metadata": {
        "id": "UVIuOLgl6QTa",
        "outputId": "575c2694-1d46-42b9-e5b7-6c095a84e43b",
        "colab": {
          "base_uri": "https://localhost:8080/",
          "height": 34
        }
      },
      "source": [
        "cereal_df.loc[cereal_df.sugars > 5].shape[0]"
      ],
      "execution_count": 26,
      "outputs": [
        {
          "output_type": "execute_result",
          "data": {
            "text/plain": [
              "46"
            ]
          },
          "metadata": {
            "tags": []
          },
          "execution_count": 26
        }
      ]
    },
    {
      "cell_type": "markdown",
      "metadata": {
        "id": "13rnEbai6QTg"
      },
      "source": [
        "# Computations and New Columns\n",
        "\n",
        "We can also use typical mathematical opperators on columnns or data frame.\n",
        "\n",
        "For example, to convert milligrams of sodium to grams, we would multiply the sodium column by 1000. **(NOTE: this will not actually change the value of the column. Instead a new series is returned)**\n",
        "```\n",
        "cereal_df.loc[:, \"sodium\"] * 1000 # note this will not actually change the value of the column\n",
        "```\n",
        "\n",
        "To create new or overiding existing columns from computations: \n",
        "```\n",
        "df.loc[:, \"column_name\"] = a single value or an array type (ie. list, series, ect.)\n",
        "```\n",
        "\n",
        "So if we wanted to make a column of sodium in grams, we would do: \n",
        "```\n",
        "cereal_df.loc[:, \"grams_sodium\"] = cereal_df.loc[:, \"sodium\"] * 1000\n",
        "```\n",
        "\n",
        "--- \n",
        "We can also use multiple columns in computations. For example, to compute the ratio of sugars to calories: \n",
        "```\n",
        "cereal_df.loc[:, \"sugars\"] / (cereal_df.loc[:, \"calories\"])\n",
        "```\n",
        "\n",
        "\n",
        "Sometimes we want to make computations on single or multiple columns of our data. To do this we can use common mathematical opperations such as `.sum()`, `.mean()`, `.std()`, `median()`.\n",
        "\n",
        "For example to compute the mean (or average) cumulative number of sugars:\n",
        "```\n",
        "cereal_df.loc[:,\"sugars\"].mean()\n",
        "```"
      ]
    },
    {
      "cell_type": "markdown",
      "metadata": {
        "id": "bzJ9DiD06QTh"
      },
      "source": [
        "### Q: Create a column for grams of potassium. (Note: potassium is currently measured in milligrams.)"
      ]
    },
    {
      "cell_type": "code",
      "metadata": {
        "id": "ePWl1-Fo6QTi",
        "outputId": "12e71c51-95b8-4280-c841-184872958e68",
        "colab": {
          "base_uri": "https://localhost:8080/",
          "height": 246
        }
      },
      "source": [
        "cereal_df.loc[:, \"grams_potassium\"] = cereal_df.loc[:, \"potass\"] / 1000\n",
        "cereal_df.head()"
      ],
      "execution_count": 28,
      "outputs": [
        {
          "output_type": "execute_result",
          "data": {
            "text/html": [
              "<div>\n",
              "<style scoped>\n",
              "    .dataframe tbody tr th:only-of-type {\n",
              "        vertical-align: middle;\n",
              "    }\n",
              "\n",
              "    .dataframe tbody tr th {\n",
              "        vertical-align: top;\n",
              "    }\n",
              "\n",
              "    .dataframe thead th {\n",
              "        text-align: right;\n",
              "    }\n",
              "</style>\n",
              "<table border=\"1\" class=\"dataframe\">\n",
              "  <thead>\n",
              "    <tr style=\"text-align: right;\">\n",
              "      <th></th>\n",
              "      <th>name</th>\n",
              "      <th>mfr</th>\n",
              "      <th>type</th>\n",
              "      <th>calories</th>\n",
              "      <th>protein</th>\n",
              "      <th>fat</th>\n",
              "      <th>sodium</th>\n",
              "      <th>fiber</th>\n",
              "      <th>carbo</th>\n",
              "      <th>sugars</th>\n",
              "      <th>potass</th>\n",
              "      <th>vitamins</th>\n",
              "      <th>shelf</th>\n",
              "      <th>weight</th>\n",
              "      <th>cups</th>\n",
              "      <th>rating</th>\n",
              "      <th>grams_potassium</th>\n",
              "    </tr>\n",
              "  </thead>\n",
              "  <tbody>\n",
              "    <tr>\n",
              "      <th>0</th>\n",
              "      <td>100% Bran</td>\n",
              "      <td>N</td>\n",
              "      <td>C</td>\n",
              "      <td>70</td>\n",
              "      <td>4</td>\n",
              "      <td>1</td>\n",
              "      <td>130</td>\n",
              "      <td>10.0</td>\n",
              "      <td>5.0</td>\n",
              "      <td>6</td>\n",
              "      <td>280</td>\n",
              "      <td>25</td>\n",
              "      <td>3</td>\n",
              "      <td>1.0</td>\n",
              "      <td>0.33</td>\n",
              "      <td>68.402973</td>\n",
              "      <td>0.280</td>\n",
              "    </tr>\n",
              "    <tr>\n",
              "      <th>1</th>\n",
              "      <td>100% Natural Bran</td>\n",
              "      <td>Q</td>\n",
              "      <td>C</td>\n",
              "      <td>120</td>\n",
              "      <td>3</td>\n",
              "      <td>5</td>\n",
              "      <td>15</td>\n",
              "      <td>2.0</td>\n",
              "      <td>8.0</td>\n",
              "      <td>8</td>\n",
              "      <td>135</td>\n",
              "      <td>0</td>\n",
              "      <td>3</td>\n",
              "      <td>1.0</td>\n",
              "      <td>1.00</td>\n",
              "      <td>33.983679</td>\n",
              "      <td>0.135</td>\n",
              "    </tr>\n",
              "    <tr>\n",
              "      <th>2</th>\n",
              "      <td>All-Bran</td>\n",
              "      <td>K</td>\n",
              "      <td>C</td>\n",
              "      <td>70</td>\n",
              "      <td>4</td>\n",
              "      <td>1</td>\n",
              "      <td>260</td>\n",
              "      <td>9.0</td>\n",
              "      <td>7.0</td>\n",
              "      <td>5</td>\n",
              "      <td>320</td>\n",
              "      <td>25</td>\n",
              "      <td>3</td>\n",
              "      <td>1.0</td>\n",
              "      <td>0.33</td>\n",
              "      <td>59.425505</td>\n",
              "      <td>0.320</td>\n",
              "    </tr>\n",
              "    <tr>\n",
              "      <th>3</th>\n",
              "      <td>All-Bran with Extra Fiber</td>\n",
              "      <td>K</td>\n",
              "      <td>C</td>\n",
              "      <td>50</td>\n",
              "      <td>4</td>\n",
              "      <td>0</td>\n",
              "      <td>140</td>\n",
              "      <td>14.0</td>\n",
              "      <td>8.0</td>\n",
              "      <td>0</td>\n",
              "      <td>330</td>\n",
              "      <td>25</td>\n",
              "      <td>3</td>\n",
              "      <td>1.0</td>\n",
              "      <td>0.50</td>\n",
              "      <td>93.704912</td>\n",
              "      <td>0.330</td>\n",
              "    </tr>\n",
              "    <tr>\n",
              "      <th>4</th>\n",
              "      <td>Almond Delight</td>\n",
              "      <td>R</td>\n",
              "      <td>C</td>\n",
              "      <td>110</td>\n",
              "      <td>2</td>\n",
              "      <td>2</td>\n",
              "      <td>200</td>\n",
              "      <td>1.0</td>\n",
              "      <td>14.0</td>\n",
              "      <td>8</td>\n",
              "      <td>-1</td>\n",
              "      <td>25</td>\n",
              "      <td>3</td>\n",
              "      <td>1.0</td>\n",
              "      <td>0.75</td>\n",
              "      <td>34.384843</td>\n",
              "      <td>-0.001</td>\n",
              "    </tr>\n",
              "  </tbody>\n",
              "</table>\n",
              "</div>"
            ],
            "text/plain": [
              "                        name mfr type  ...  cups     rating  grams_potassium\n",
              "0                  100% Bran   N    C  ...  0.33  68.402973            0.280\n",
              "1          100% Natural Bran   Q    C  ...  1.00  33.983679            0.135\n",
              "2                   All-Bran   K    C  ...  0.33  59.425505            0.320\n",
              "3  All-Bran with Extra Fiber   K    C  ...  0.50  93.704912            0.330\n",
              "4             Almond Delight   R    C  ...  0.75  34.384843           -0.001\n",
              "\n",
              "[5 rows x 17 columns]"
            ]
          },
          "metadata": {
            "tags": []
          },
          "execution_count": 28
        }
      ]
    },
    {
      "cell_type": "markdown",
      "metadata": {
        "id": "gEqkzfeD6QTm"
      },
      "source": [
        "### Q: Can you create a column of sugar/weight?"
      ]
    },
    {
      "cell_type": "code",
      "metadata": {
        "id": "Q-eKOmVX6QTn",
        "outputId": "3515ad2f-0175-418b-f2e4-04c5b7fa628f",
        "colab": {
          "base_uri": "https://localhost:8080/",
          "height": 366
        }
      },
      "source": [
        "cereal_df.loc[:, \"sugardivweight\"] = cereal_df.loc[:, \"sugars\"] / cereal_df.loc[:, \"weight\"]\n",
        "cereal_df.head()"
      ],
      "execution_count": 30,
      "outputs": [
        {
          "output_type": "execute_result",
          "data": {
            "text/html": [
              "<div>\n",
              "<style scoped>\n",
              "    .dataframe tbody tr th:only-of-type {\n",
              "        vertical-align: middle;\n",
              "    }\n",
              "\n",
              "    .dataframe tbody tr th {\n",
              "        vertical-align: top;\n",
              "    }\n",
              "\n",
              "    .dataframe thead th {\n",
              "        text-align: right;\n",
              "    }\n",
              "</style>\n",
              "<table border=\"1\" class=\"dataframe\">\n",
              "  <thead>\n",
              "    <tr style=\"text-align: right;\">\n",
              "      <th></th>\n",
              "      <th>name</th>\n",
              "      <th>mfr</th>\n",
              "      <th>type</th>\n",
              "      <th>calories</th>\n",
              "      <th>protein</th>\n",
              "      <th>fat</th>\n",
              "      <th>sodium</th>\n",
              "      <th>fiber</th>\n",
              "      <th>carbo</th>\n",
              "      <th>sugars</th>\n",
              "      <th>potass</th>\n",
              "      <th>vitamins</th>\n",
              "      <th>shelf</th>\n",
              "      <th>weight</th>\n",
              "      <th>cups</th>\n",
              "      <th>rating</th>\n",
              "      <th>grams_potassium</th>\n",
              "      <th>sugardivweight</th>\n",
              "    </tr>\n",
              "  </thead>\n",
              "  <tbody>\n",
              "    <tr>\n",
              "      <th>0</th>\n",
              "      <td>100% Bran</td>\n",
              "      <td>N</td>\n",
              "      <td>C</td>\n",
              "      <td>70</td>\n",
              "      <td>4</td>\n",
              "      <td>1</td>\n",
              "      <td>130</td>\n",
              "      <td>10.0</td>\n",
              "      <td>5.0</td>\n",
              "      <td>6</td>\n",
              "      <td>280</td>\n",
              "      <td>25</td>\n",
              "      <td>3</td>\n",
              "      <td>1.0</td>\n",
              "      <td>0.33</td>\n",
              "      <td>68.402973</td>\n",
              "      <td>0.280</td>\n",
              "      <td>6.0</td>\n",
              "    </tr>\n",
              "    <tr>\n",
              "      <th>1</th>\n",
              "      <td>100% Natural Bran</td>\n",
              "      <td>Q</td>\n",
              "      <td>C</td>\n",
              "      <td>120</td>\n",
              "      <td>3</td>\n",
              "      <td>5</td>\n",
              "      <td>15</td>\n",
              "      <td>2.0</td>\n",
              "      <td>8.0</td>\n",
              "      <td>8</td>\n",
              "      <td>135</td>\n",
              "      <td>0</td>\n",
              "      <td>3</td>\n",
              "      <td>1.0</td>\n",
              "      <td>1.00</td>\n",
              "      <td>33.983679</td>\n",
              "      <td>0.135</td>\n",
              "      <td>8.0</td>\n",
              "    </tr>\n",
              "    <tr>\n",
              "      <th>2</th>\n",
              "      <td>All-Bran</td>\n",
              "      <td>K</td>\n",
              "      <td>C</td>\n",
              "      <td>70</td>\n",
              "      <td>4</td>\n",
              "      <td>1</td>\n",
              "      <td>260</td>\n",
              "      <td>9.0</td>\n",
              "      <td>7.0</td>\n",
              "      <td>5</td>\n",
              "      <td>320</td>\n",
              "      <td>25</td>\n",
              "      <td>3</td>\n",
              "      <td>1.0</td>\n",
              "      <td>0.33</td>\n",
              "      <td>59.425505</td>\n",
              "      <td>0.320</td>\n",
              "      <td>5.0</td>\n",
              "    </tr>\n",
              "    <tr>\n",
              "      <th>3</th>\n",
              "      <td>All-Bran with Extra Fiber</td>\n",
              "      <td>K</td>\n",
              "      <td>C</td>\n",
              "      <td>50</td>\n",
              "      <td>4</td>\n",
              "      <td>0</td>\n",
              "      <td>140</td>\n",
              "      <td>14.0</td>\n",
              "      <td>8.0</td>\n",
              "      <td>0</td>\n",
              "      <td>330</td>\n",
              "      <td>25</td>\n",
              "      <td>3</td>\n",
              "      <td>1.0</td>\n",
              "      <td>0.50</td>\n",
              "      <td>93.704912</td>\n",
              "      <td>0.330</td>\n",
              "      <td>0.0</td>\n",
              "    </tr>\n",
              "    <tr>\n",
              "      <th>4</th>\n",
              "      <td>Almond Delight</td>\n",
              "      <td>R</td>\n",
              "      <td>C</td>\n",
              "      <td>110</td>\n",
              "      <td>2</td>\n",
              "      <td>2</td>\n",
              "      <td>200</td>\n",
              "      <td>1.0</td>\n",
              "      <td>14.0</td>\n",
              "      <td>8</td>\n",
              "      <td>-1</td>\n",
              "      <td>25</td>\n",
              "      <td>3</td>\n",
              "      <td>1.0</td>\n",
              "      <td>0.75</td>\n",
              "      <td>34.384843</td>\n",
              "      <td>-0.001</td>\n",
              "      <td>8.0</td>\n",
              "    </tr>\n",
              "  </tbody>\n",
              "</table>\n",
              "</div>"
            ],
            "text/plain": [
              "                        name mfr  ... grams_potassium  sugardivweight\n",
              "0                  100% Bran   N  ...           0.280             6.0\n",
              "1          100% Natural Bran   Q  ...           0.135             8.0\n",
              "2                   All-Bran   K  ...           0.320             5.0\n",
              "3  All-Bran with Extra Fiber   K  ...           0.330             0.0\n",
              "4             Almond Delight   R  ...          -0.001             8.0\n",
              "\n",
              "[5 rows x 18 columns]"
            ]
          },
          "metadata": {
            "tags": []
          },
          "execution_count": 30
        }
      ]
    },
    {
      "cell_type": "markdown",
      "metadata": {
        "id": "AQucJ2gt6QTv"
      },
      "source": [
        "### Q: What is the mean and median for sugar amount? Are they the same or different?"
      ]
    },
    {
      "cell_type": "code",
      "metadata": {
        "id": "9gEJyilM6QTw",
        "outputId": "7bf49e1a-7fef-4476-bd87-505980cf235a",
        "colab": {
          "base_uri": "https://localhost:8080/",
          "height": 50
        }
      },
      "source": [
        "print(cereal_df.loc[:, 'sugars'].mean())\n",
        "cereal_df.loc[:, 'sugars'].median()\n",
        "cereal_df.sugars.mean()"
      ],
      "execution_count": 35,
      "outputs": [
        {
          "output_type": "stream",
          "text": [
            "6.922077922077922\n"
          ],
          "name": "stdout"
        },
        {
          "output_type": "execute_result",
          "data": {
            "text/plain": [
              "6.922077922077922"
            ]
          },
          "metadata": {
            "tags": []
          },
          "execution_count": 35
        }
      ]
    },
    {
      "cell_type": "markdown",
      "metadata": {
        "id": "DCFyNddf6QT4"
      },
      "source": [
        "### Q: What is the mean and median for fiber? Are they the same or different?"
      ]
    },
    {
      "cell_type": "code",
      "metadata": {
        "id": "C1nA4Qkd6QT5",
        "outputId": "b680565f-58dd-473b-f747-b3f57c2279dd",
        "colab": {
          "base_uri": "https://localhost:8080/",
          "height": 34
        }
      },
      "source": [
        "cereal_df.fiber.mean()\n",
        "cereal_df.fiber.median()"
      ],
      "execution_count": 38,
      "outputs": [
        {
          "output_type": "execute_result",
          "data": {
            "text/plain": [
              "2.0"
            ]
          },
          "metadata": {
            "tags": []
          },
          "execution_count": 38
        }
      ]
    },
    {
      "cell_type": "markdown",
      "metadata": {
        "id": "wk4kdXq16QT-"
      },
      "source": [
        "# Sorting\n",
        "\n",
        "Dataframes make it easy to sort values in a specific column. For example, if we wanted to sort the dataframe by sugar levels, we would do: \n",
        "```\n",
        "cereal_df.sort_values(by=['sugars])\n",
        "```\n",
        "\n",
        "By default, the sort is in ascending order (lowest to high). To sort in descending order, do: \n",
        "```\n",
        "cereal_df.sort_values(by=['sugars], ascending=False)\n",
        "```"
      ]
    },
    {
      "cell_type": "markdown",
      "metadata": {
        "id": "bIKuTnem6QUA"
      },
      "source": [
        "### Q: What cereals have the most number of calories?"
      ]
    },
    {
      "cell_type": "code",
      "metadata": {
        "id": "xpCW6Elu6QUA",
        "outputId": "c16bcae2-9cb7-413b-9545-d8f70b06475e",
        "colab": {
          "base_uri": "https://localhost:8080/",
          "height": 758
        }
      },
      "source": [
        "cereal_df.sort_values(by=['calories'], ascending = False)"
      ],
      "execution_count": 41,
      "outputs": [
        {
          "output_type": "execute_result",
          "data": {
            "text/html": [
              "<div>\n",
              "<style scoped>\n",
              "    .dataframe tbody tr th:only-of-type {\n",
              "        vertical-align: middle;\n",
              "    }\n",
              "\n",
              "    .dataframe tbody tr th {\n",
              "        vertical-align: top;\n",
              "    }\n",
              "\n",
              "    .dataframe thead th {\n",
              "        text-align: right;\n",
              "    }\n",
              "</style>\n",
              "<table border=\"1\" class=\"dataframe\">\n",
              "  <thead>\n",
              "    <tr style=\"text-align: right;\">\n",
              "      <th></th>\n",
              "      <th>name</th>\n",
              "      <th>mfr</th>\n",
              "      <th>type</th>\n",
              "      <th>calories</th>\n",
              "      <th>protein</th>\n",
              "      <th>fat</th>\n",
              "      <th>sodium</th>\n",
              "      <th>fiber</th>\n",
              "      <th>carbo</th>\n",
              "      <th>sugars</th>\n",
              "      <th>potass</th>\n",
              "      <th>vitamins</th>\n",
              "      <th>shelf</th>\n",
              "      <th>weight</th>\n",
              "      <th>cups</th>\n",
              "      <th>rating</th>\n",
              "      <th>grams_potassium</th>\n",
              "      <th>sugardivweight</th>\n",
              "    </tr>\n",
              "  </thead>\n",
              "  <tbody>\n",
              "    <tr>\n",
              "      <th>46</th>\n",
              "      <td>Mueslix Crispy Blend</td>\n",
              "      <td>K</td>\n",
              "      <td>C</td>\n",
              "      <td>160</td>\n",
              "      <td>3</td>\n",
              "      <td>2</td>\n",
              "      <td>150</td>\n",
              "      <td>3.0</td>\n",
              "      <td>17.0</td>\n",
              "      <td>13</td>\n",
              "      <td>160</td>\n",
              "      <td>25</td>\n",
              "      <td>3</td>\n",
              "      <td>1.5</td>\n",
              "      <td>0.67</td>\n",
              "      <td>30.313351</td>\n",
              "      <td>0.160</td>\n",
              "      <td>8.666667</td>\n",
              "    </tr>\n",
              "    <tr>\n",
              "      <th>44</th>\n",
              "      <td>Muesli Raisins; Dates; &amp; Almonds</td>\n",
              "      <td>R</td>\n",
              "      <td>C</td>\n",
              "      <td>150</td>\n",
              "      <td>4</td>\n",
              "      <td>3</td>\n",
              "      <td>95</td>\n",
              "      <td>3.0</td>\n",
              "      <td>16.0</td>\n",
              "      <td>11</td>\n",
              "      <td>170</td>\n",
              "      <td>25</td>\n",
              "      <td>3</td>\n",
              "      <td>1.0</td>\n",
              "      <td>1.00</td>\n",
              "      <td>37.136863</td>\n",
              "      <td>0.170</td>\n",
              "      <td>11.000000</td>\n",
              "    </tr>\n",
              "    <tr>\n",
              "      <th>45</th>\n",
              "      <td>Muesli Raisins; Peaches; &amp; Pecans</td>\n",
              "      <td>R</td>\n",
              "      <td>C</td>\n",
              "      <td>150</td>\n",
              "      <td>4</td>\n",
              "      <td>3</td>\n",
              "      <td>150</td>\n",
              "      <td>3.0</td>\n",
              "      <td>16.0</td>\n",
              "      <td>11</td>\n",
              "      <td>170</td>\n",
              "      <td>25</td>\n",
              "      <td>3</td>\n",
              "      <td>1.0</td>\n",
              "      <td>1.00</td>\n",
              "      <td>34.139765</td>\n",
              "      <td>0.170</td>\n",
              "      <td>11.000000</td>\n",
              "    </tr>\n",
              "    <tr>\n",
              "      <th>70</th>\n",
              "      <td>Total Raisin Bran</td>\n",
              "      <td>G</td>\n",
              "      <td>C</td>\n",
              "      <td>140</td>\n",
              "      <td>3</td>\n",
              "      <td>1</td>\n",
              "      <td>190</td>\n",
              "      <td>4.0</td>\n",
              "      <td>15.0</td>\n",
              "      <td>14</td>\n",
              "      <td>230</td>\n",
              "      <td>100</td>\n",
              "      <td>3</td>\n",
              "      <td>1.5</td>\n",
              "      <td>1.00</td>\n",
              "      <td>28.592785</td>\n",
              "      <td>0.230</td>\n",
              "      <td>9.333333</td>\n",
              "    </tr>\n",
              "    <tr>\n",
              "      <th>39</th>\n",
              "      <td>Just Right Fruit &amp; Nut</td>\n",
              "      <td>K</td>\n",
              "      <td>C</td>\n",
              "      <td>140</td>\n",
              "      <td>3</td>\n",
              "      <td>1</td>\n",
              "      <td>170</td>\n",
              "      <td>2.0</td>\n",
              "      <td>20.0</td>\n",
              "      <td>9</td>\n",
              "      <td>95</td>\n",
              "      <td>100</td>\n",
              "      <td>3</td>\n",
              "      <td>1.3</td>\n",
              "      <td>0.75</td>\n",
              "      <td>36.471512</td>\n",
              "      <td>0.095</td>\n",
              "      <td>6.923077</td>\n",
              "    </tr>\n",
              "    <tr>\n",
              "      <th>...</th>\n",
              "      <td>...</td>\n",
              "      <td>...</td>\n",
              "      <td>...</td>\n",
              "      <td>...</td>\n",
              "      <td>...</td>\n",
              "      <td>...</td>\n",
              "      <td>...</td>\n",
              "      <td>...</td>\n",
              "      <td>...</td>\n",
              "      <td>...</td>\n",
              "      <td>...</td>\n",
              "      <td>...</td>\n",
              "      <td>...</td>\n",
              "      <td>...</td>\n",
              "      <td>...</td>\n",
              "      <td>...</td>\n",
              "      <td>...</td>\n",
              "      <td>...</td>\n",
              "    </tr>\n",
              "    <tr>\n",
              "      <th>2</th>\n",
              "      <td>All-Bran</td>\n",
              "      <td>K</td>\n",
              "      <td>C</td>\n",
              "      <td>70</td>\n",
              "      <td>4</td>\n",
              "      <td>1</td>\n",
              "      <td>260</td>\n",
              "      <td>9.0</td>\n",
              "      <td>7.0</td>\n",
              "      <td>5</td>\n",
              "      <td>320</td>\n",
              "      <td>25</td>\n",
              "      <td>3</td>\n",
              "      <td>1.0</td>\n",
              "      <td>0.33</td>\n",
              "      <td>59.425505</td>\n",
              "      <td>0.320</td>\n",
              "      <td>5.000000</td>\n",
              "    </tr>\n",
              "    <tr>\n",
              "      <th>0</th>\n",
              "      <td>100% Bran</td>\n",
              "      <td>N</td>\n",
              "      <td>C</td>\n",
              "      <td>70</td>\n",
              "      <td>4</td>\n",
              "      <td>1</td>\n",
              "      <td>130</td>\n",
              "      <td>10.0</td>\n",
              "      <td>5.0</td>\n",
              "      <td>6</td>\n",
              "      <td>280</td>\n",
              "      <td>25</td>\n",
              "      <td>3</td>\n",
              "      <td>1.0</td>\n",
              "      <td>0.33</td>\n",
              "      <td>68.402973</td>\n",
              "      <td>0.280</td>\n",
              "      <td>6.000000</td>\n",
              "    </tr>\n",
              "    <tr>\n",
              "      <th>3</th>\n",
              "      <td>All-Bran with Extra Fiber</td>\n",
              "      <td>K</td>\n",
              "      <td>C</td>\n",
              "      <td>50</td>\n",
              "      <td>4</td>\n",
              "      <td>0</td>\n",
              "      <td>140</td>\n",
              "      <td>14.0</td>\n",
              "      <td>8.0</td>\n",
              "      <td>0</td>\n",
              "      <td>330</td>\n",
              "      <td>25</td>\n",
              "      <td>3</td>\n",
              "      <td>1.0</td>\n",
              "      <td>0.50</td>\n",
              "      <td>93.704912</td>\n",
              "      <td>0.330</td>\n",
              "      <td>0.000000</td>\n",
              "    </tr>\n",
              "    <tr>\n",
              "      <th>55</th>\n",
              "      <td>Puffed Wheat</td>\n",
              "      <td>Q</td>\n",
              "      <td>C</td>\n",
              "      <td>50</td>\n",
              "      <td>2</td>\n",
              "      <td>0</td>\n",
              "      <td>0</td>\n",
              "      <td>1.0</td>\n",
              "      <td>10.0</td>\n",
              "      <td>0</td>\n",
              "      <td>50</td>\n",
              "      <td>0</td>\n",
              "      <td>3</td>\n",
              "      <td>0.5</td>\n",
              "      <td>1.00</td>\n",
              "      <td>63.005645</td>\n",
              "      <td>0.050</td>\n",
              "      <td>0.000000</td>\n",
              "    </tr>\n",
              "    <tr>\n",
              "      <th>54</th>\n",
              "      <td>Puffed Rice</td>\n",
              "      <td>Q</td>\n",
              "      <td>C</td>\n",
              "      <td>50</td>\n",
              "      <td>1</td>\n",
              "      <td>0</td>\n",
              "      <td>0</td>\n",
              "      <td>0.0</td>\n",
              "      <td>13.0</td>\n",
              "      <td>0</td>\n",
              "      <td>15</td>\n",
              "      <td>0</td>\n",
              "      <td>3</td>\n",
              "      <td>0.5</td>\n",
              "      <td>1.00</td>\n",
              "      <td>60.756112</td>\n",
              "      <td>0.015</td>\n",
              "      <td>0.000000</td>\n",
              "    </tr>\n",
              "  </tbody>\n",
              "</table>\n",
              "<p>77 rows × 18 columns</p>\n",
              "</div>"
            ],
            "text/plain": [
              "                                 name mfr  ... grams_potassium  sugardivweight\n",
              "46               Mueslix Crispy Blend   K  ...           0.160        8.666667\n",
              "44   Muesli Raisins; Dates; & Almonds   R  ...           0.170       11.000000\n",
              "45  Muesli Raisins; Peaches; & Pecans   R  ...           0.170       11.000000\n",
              "70                  Total Raisin Bran   G  ...           0.230        9.333333\n",
              "39             Just Right Fruit & Nut   K  ...           0.095        6.923077\n",
              "..                                ...  ..  ...             ...             ...\n",
              "2                            All-Bran   K  ...           0.320        5.000000\n",
              "0                           100% Bran   N  ...           0.280        6.000000\n",
              "3           All-Bran with Extra Fiber   K  ...           0.330        0.000000\n",
              "55                       Puffed Wheat   Q  ...           0.050        0.000000\n",
              "54                        Puffed Rice   Q  ...           0.015        0.000000\n",
              "\n",
              "[77 rows x 18 columns]"
            ]
          },
          "metadata": {
            "tags": []
          },
          "execution_count": 41
        }
      ]
    },
    {
      "cell_type": "markdown",
      "metadata": {
        "id": "dDiuxwKQ6QUH"
      },
      "source": [
        "### Q: What cereals have the least number of calories?"
      ]
    },
    {
      "cell_type": "code",
      "metadata": {
        "id": "JAg2Bsiy6QUH",
        "outputId": "5d21c5b8-6605-40b3-98b0-245a04678d39",
        "colab": {
          "base_uri": "https://localhost:8080/",
          "height": 130
        }
      },
      "source": [
        "cereal_df.loc[cereal_df.calories == cereal_df.calories.max()]"
      ],
      "execution_count": 46,
      "outputs": [
        {
          "output_type": "execute_result",
          "data": {
            "text/html": [
              "<div>\n",
              "<style scoped>\n",
              "    .dataframe tbody tr th:only-of-type {\n",
              "        vertical-align: middle;\n",
              "    }\n",
              "\n",
              "    .dataframe tbody tr th {\n",
              "        vertical-align: top;\n",
              "    }\n",
              "\n",
              "    .dataframe thead th {\n",
              "        text-align: right;\n",
              "    }\n",
              "</style>\n",
              "<table border=\"1\" class=\"dataframe\">\n",
              "  <thead>\n",
              "    <tr style=\"text-align: right;\">\n",
              "      <th></th>\n",
              "      <th>name</th>\n",
              "      <th>mfr</th>\n",
              "      <th>type</th>\n",
              "      <th>calories</th>\n",
              "      <th>protein</th>\n",
              "      <th>fat</th>\n",
              "      <th>sodium</th>\n",
              "      <th>fiber</th>\n",
              "      <th>carbo</th>\n",
              "      <th>sugars</th>\n",
              "      <th>potass</th>\n",
              "      <th>vitamins</th>\n",
              "      <th>shelf</th>\n",
              "      <th>weight</th>\n",
              "      <th>cups</th>\n",
              "      <th>rating</th>\n",
              "      <th>grams_potassium</th>\n",
              "      <th>sugardivweight</th>\n",
              "    </tr>\n",
              "  </thead>\n",
              "  <tbody>\n",
              "    <tr>\n",
              "      <th>46</th>\n",
              "      <td>Mueslix Crispy Blend</td>\n",
              "      <td>K</td>\n",
              "      <td>C</td>\n",
              "      <td>160</td>\n",
              "      <td>3</td>\n",
              "      <td>2</td>\n",
              "      <td>150</td>\n",
              "      <td>3.0</td>\n",
              "      <td>17.0</td>\n",
              "      <td>13</td>\n",
              "      <td>160</td>\n",
              "      <td>25</td>\n",
              "      <td>3</td>\n",
              "      <td>1.5</td>\n",
              "      <td>0.67</td>\n",
              "      <td>30.313351</td>\n",
              "      <td>0.16</td>\n",
              "      <td>8.666667</td>\n",
              "    </tr>\n",
              "  </tbody>\n",
              "</table>\n",
              "</div>"
            ],
            "text/plain": [
              "                    name mfr type  ...     rating  grams_potassium  sugardivweight\n",
              "46  Mueslix Crispy Blend   K    C  ...  30.313351             0.16        8.666667\n",
              "\n",
              "[1 rows x 18 columns]"
            ]
          },
          "metadata": {
            "tags": []
          },
          "execution_count": 46
        }
      ]
    },
    {
      "cell_type": "markdown",
      "metadata": {
        "id": "1-8T2wQF6QUM"
      },
      "source": [
        "# Grouping and Aggregating the Data\n",
        "\n",
        "Sometimes we want to look at our data at a different granularity. Pandas allows us to do this by grouping on columns.\n",
        "\n",
        "For example to look at the average values for cold vs hot cereal: \\\n",
        "```\n",
        "hot_cold_df = cereal_df.groupby([\"type\"]).mean().reset_index()\n",
        "```\n",
        "\n",
        "---\n",
        "\n",
        "Q: Can you create a dataframe that is grouped by date?\\\n",
        "Q: What is the shape/dimensions of the new data frame? Does this make sense based off of the number of recorded days of data? \n",
        "Q: What does this new data frame represent?\n",
        "\n",
        "You can also print off the head of this new data frame if you want to get a better sense of what it includes.\n",
        "\n"
      ]
    },
    {
      "cell_type": "markdown",
      "metadata": {
        "id": "yhV-UXE_6QUN"
      },
      "source": [
        "### Q: What are the average cereal measurements per manufacturer of cereal (mfr) ?"
      ]
    },
    {
      "cell_type": "code",
      "metadata": {
        "id": "u4P_3cv36QUN",
        "outputId": "78a7f887-4845-46e0-84a1-0cf81f1e80db",
        "colab": {
          "base_uri": "https://localhost:8080/",
          "height": 215
        }
      },
      "source": [
        "manu_df = cereal_df.groupby([\"mfr\"]).mean().reset_index().sort_values(by=['sodium'], axis=0, ascending = True)\n",
        "manu_df.head()"
      ],
      "execution_count": 59,
      "outputs": [
        {
          "output_type": "execute_result",
          "data": {
            "text/html": [
              "<div>\n",
              "<style scoped>\n",
              "    .dataframe tbody tr th:only-of-type {\n",
              "        vertical-align: middle;\n",
              "    }\n",
              "\n",
              "    .dataframe tbody tr th {\n",
              "        vertical-align: top;\n",
              "    }\n",
              "\n",
              "    .dataframe thead th {\n",
              "        text-align: right;\n",
              "    }\n",
              "</style>\n",
              "<table border=\"1\" class=\"dataframe\">\n",
              "  <thead>\n",
              "    <tr style=\"text-align: right;\">\n",
              "      <th></th>\n",
              "      <th>mfr</th>\n",
              "      <th>calories</th>\n",
              "      <th>protein</th>\n",
              "      <th>fat</th>\n",
              "      <th>sodium</th>\n",
              "      <th>fiber</th>\n",
              "      <th>carbo</th>\n",
              "      <th>sugars</th>\n",
              "      <th>potass</th>\n",
              "      <th>vitamins</th>\n",
              "      <th>shelf</th>\n",
              "      <th>weight</th>\n",
              "      <th>cups</th>\n",
              "      <th>rating</th>\n",
              "      <th>grams_potassium</th>\n",
              "      <th>sugardivweight</th>\n",
              "    </tr>\n",
              "  </thead>\n",
              "  <tbody>\n",
              "    <tr>\n",
              "      <th>0</th>\n",
              "      <td>A</td>\n",
              "      <td>100.000000</td>\n",
              "      <td>4.000000</td>\n",
              "      <td>1.000000</td>\n",
              "      <td>0.000000</td>\n",
              "      <td>0.000000</td>\n",
              "      <td>16.000000</td>\n",
              "      <td>3.000000</td>\n",
              "      <td>95.000000</td>\n",
              "      <td>25.000000</td>\n",
              "      <td>2.000000</td>\n",
              "      <td>1.000000</td>\n",
              "      <td>1.000000</td>\n",
              "      <td>54.850917</td>\n",
              "      <td>0.095000</td>\n",
              "      <td>3.000000</td>\n",
              "    </tr>\n",
              "    <tr>\n",
              "      <th>3</th>\n",
              "      <td>N</td>\n",
              "      <td>86.666667</td>\n",
              "      <td>2.833333</td>\n",
              "      <td>0.166667</td>\n",
              "      <td>37.500000</td>\n",
              "      <td>4.000000</td>\n",
              "      <td>16.000000</td>\n",
              "      <td>1.833333</td>\n",
              "      <td>120.666667</td>\n",
              "      <td>8.333333</td>\n",
              "      <td>1.666667</td>\n",
              "      <td>0.971667</td>\n",
              "      <td>0.778333</td>\n",
              "      <td>67.968567</td>\n",
              "      <td>0.120667</td>\n",
              "      <td>1.833333</td>\n",
              "    </tr>\n",
              "    <tr>\n",
              "      <th>5</th>\n",
              "      <td>Q</td>\n",
              "      <td>95.000000</td>\n",
              "      <td>2.625000</td>\n",
              "      <td>1.750000</td>\n",
              "      <td>92.500000</td>\n",
              "      <td>1.337500</td>\n",
              "      <td>10.000000</td>\n",
              "      <td>5.250000</td>\n",
              "      <td>74.375000</td>\n",
              "      <td>12.500000</td>\n",
              "      <td>2.375000</td>\n",
              "      <td>0.875000</td>\n",
              "      <td>0.823750</td>\n",
              "      <td>42.915990</td>\n",
              "      <td>0.074375</td>\n",
              "      <td>5.250000</td>\n",
              "    </tr>\n",
              "    <tr>\n",
              "      <th>4</th>\n",
              "      <td>P</td>\n",
              "      <td>108.888889</td>\n",
              "      <td>2.444444</td>\n",
              "      <td>0.888889</td>\n",
              "      <td>146.111111</td>\n",
              "      <td>2.777778</td>\n",
              "      <td>13.222222</td>\n",
              "      <td>8.777778</td>\n",
              "      <td>113.888889</td>\n",
              "      <td>25.000000</td>\n",
              "      <td>2.444444</td>\n",
              "      <td>1.064444</td>\n",
              "      <td>0.714444</td>\n",
              "      <td>41.705744</td>\n",
              "      <td>0.113889</td>\n",
              "      <td>8.169591</td>\n",
              "    </tr>\n",
              "    <tr>\n",
              "      <th>2</th>\n",
              "      <td>K</td>\n",
              "      <td>108.695652</td>\n",
              "      <td>2.652174</td>\n",
              "      <td>0.608696</td>\n",
              "      <td>174.782609</td>\n",
              "      <td>2.739130</td>\n",
              "      <td>15.130435</td>\n",
              "      <td>7.565217</td>\n",
              "      <td>103.043478</td>\n",
              "      <td>34.782609</td>\n",
              "      <td>2.347826</td>\n",
              "      <td>1.077826</td>\n",
              "      <td>0.796087</td>\n",
              "      <td>44.038462</td>\n",
              "      <td>0.103043</td>\n",
              "      <td>6.952088</td>\n",
              "    </tr>\n",
              "  </tbody>\n",
              "</table>\n",
              "</div>"
            ],
            "text/plain": [
              "  mfr    calories   protein  ...     rating  grams_potassium  sugardivweight\n",
              "0   A  100.000000  4.000000  ...  54.850917         0.095000        3.000000\n",
              "3   N   86.666667  2.833333  ...  67.968567         0.120667        1.833333\n",
              "5   Q   95.000000  2.625000  ...  42.915990         0.074375        5.250000\n",
              "4   P  108.888889  2.444444  ...  41.705744         0.113889        8.169591\n",
              "2   K  108.695652  2.652174  ...  44.038462         0.103043        6.952088\n",
              "\n",
              "[5 rows x 16 columns]"
            ]
          },
          "metadata": {
            "tags": []
          },
          "execution_count": 59
        }
      ]
    }
  ]
}